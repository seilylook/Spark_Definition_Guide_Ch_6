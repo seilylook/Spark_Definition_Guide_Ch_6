{
 "cells": [
  {
   "cell_type": "code",
   "execution_count": 1,
   "id": "06b922ef-8274-4856-9958-0d577e4a6f8c",
   "metadata": {},
   "outputs": [
    {
     "name": "stderr",
     "output_type": "stream",
     "text": [
      "24/09/26 16:11:39 WARN Utils: Your hostname, gimsehyeon-ui-MacBookPro.local resolves to a loopback address: 127.0.0.1; using 172.30.1.31 instead (on interface en0)\n",
      "24/09/26 16:11:39 WARN Utils: Set SPARK_LOCAL_IP if you need to bind to another address\n",
      "Setting default log level to \"WARN\".\n",
      "To adjust logging level use sc.setLogLevel(newLevel). For SparkR, use setLogLevel(newLevel).\n",
      "24/09/26 16:11:40 WARN NativeCodeLoader: Unable to load native-hadoop library for your platform... using builtin-java classes where applicable\n"
     ]
    }
   ],
   "source": [
    "from pyspark.sql import SparkSession\n",
    "\n",
    "spark = SparkSession.builder \\\n",
    ".master(\"local\") \\\n",
    ".appName(\"chapter6\") \\\n",
    ".getOrCreate()"
   ]
  },
  {
   "cell_type": "code",
   "execution_count": 2,
   "id": "ed4b1f97-3784-4e1d-be07-8e52979d2f3d",
   "metadata": {},
   "outputs": [
    {
     "name": "stderr",
     "output_type": "stream",
     "text": [
      "[Stage 1:>                                                          (0 + 1) / 1]\r"
     ]
    },
    {
     "name": "stdout",
     "output_type": "stream",
     "text": [
      "root\n",
      " |-- InvoiceNo: string (nullable = true)\n",
      " |-- StockCode: string (nullable = true)\n",
      " |-- Description: string (nullable = true)\n",
      " |-- Quantity: integer (nullable = true)\n",
      " |-- InvoiceDate: timestamp (nullable = true)\n",
      " |-- UnitPrice: double (nullable = true)\n",
      " |-- CustomerID: double (nullable = true)\n",
      " |-- Country: string (nullable = true)\n",
      "\n"
     ]
    },
    {
     "name": "stderr",
     "output_type": "stream",
     "text": [
      "                                                                                \r"
     ]
    }
   ],
   "source": [
    "df = spark.read.format(\"csv\") \\\n",
    ".option(\"header\", \"true\") \\\n",
    ".option(\"inferSchema\", \"true\") \\\n",
    ".load(\"./data/retail-data/by-day/2010-12-01.csv\")\n",
    "\n",
    "df.printSchema()"
   ]
  },
  {
   "cell_type": "code",
   "execution_count": 3,
   "id": "46de2b54-6cd3-4228-83e3-da1a91c789fc",
   "metadata": {},
   "outputs": [],
   "source": [
    "df.createOrReplaceTempView(\"dfTable\")"
   ]
  },
  {
   "cell_type": "markdown",
   "id": "ea095fff-9428-4339-9d53-79d1bf612f7e",
   "metadata": {},
   "source": [
    "## 스파크 데이터 타입으로 변환하기"
   ]
  },
  {
   "cell_type": "code",
   "execution_count": 4,
   "id": "d6ad92c2-5846-46df-aeb6-2bcd655ad917",
   "metadata": {},
   "outputs": [
    {
     "data": {
      "text/plain": [
       "DataFrame[5: int, five: string, 5.0: double]"
      ]
     },
     "execution_count": 4,
     "metadata": {},
     "output_type": "execute_result"
    }
   ],
   "source": [
    "from pyspark.sql.functions import *\n",
    "\n",
    "df.select(lit(5), lit(\"five\"), lit(5.0))"
   ]
  },
  {
   "cell_type": "markdown",
   "id": "47a290e4-590d-4481-b9e7-b022d7144e58",
   "metadata": {},
   "source": [
    "## 불리언 데이터 타입 다루기"
   ]
  },
  {
   "cell_type": "code",
   "execution_count": 5,
   "id": "ac2bc485-03e7-4a44-80a3-47f621738cf9",
   "metadata": {},
   "outputs": [
    {
     "name": "stdout",
     "output_type": "stream",
     "text": [
      "+---------+-----------------------------+\n",
      "|InvoiceNo|Description                  |\n",
      "+---------+-----------------------------+\n",
      "|536366   |HAND WARMER UNION JACK       |\n",
      "|536366   |HAND WARMER RED POLKA DOT    |\n",
      "|536367   |ASSORTED COLOUR BIRD ORNAMENT|\n",
      "|536367   |POPPY'S PLAYHOUSE BEDROOM    |\n",
      "|536367   |POPPY'S PLAYHOUSE KITCHEN    |\n",
      "+---------+-----------------------------+\n",
      "only showing top 5 rows\n",
      "\n"
     ]
    }
   ],
   "source": [
    "df.where(col(\"InvoiceNo\") != 536365) \\\n",
    ".select(\"InvoiceNo\", \"Description\") \\\n",
    ".show(5, False)"
   ]
  },
  {
   "cell_type": "code",
   "execution_count": 6,
   "id": "958d2087-e556-4150-97fc-14a85266fd26",
   "metadata": {},
   "outputs": [
    {
     "name": "stdout",
     "output_type": "stream",
     "text": [
      "+---------+-----------+\n",
      "|unitPrice|isExpensive|\n",
      "+---------+-----------+\n",
      "|   569.77|       true|\n",
      "|   607.49|       true|\n",
      "+---------+-----------+\n",
      "\n"
     ]
    }
   ],
   "source": [
    "DOTCodeFilter = col(\"StockCode\") == \"DOT\"\n",
    "priceFilter = col(\"UnitPrice\") > 600\n",
    "descriptFilter = instr(col(\"Description\"), \"POSTAGE\") >= 1\n",
    "                       \n",
    "df.withColumn(\"isExpensive\", DOTCodeFilter & (priceFilter | descriptFilter)) \\\n",
    "    .where(\"isExpensive\") \\\n",
    "    .select(\"unitPrice\", \"isExpensive\").show(5)"
   ]
  },
  {
   "cell_type": "markdown",
   "id": "e85430d5-5bb3-406a-a1fa-a8614134f175",
   "metadata": {},
   "source": [
    "## 수치형 데이터 타입 다루기 "
   ]
  },
  {
   "cell_type": "code",
   "execution_count": 7,
   "id": "bd222eee-ded3-419c-9243-11b7ded15a9b",
   "metadata": {},
   "outputs": [
    {
     "name": "stdout",
     "output_type": "stream",
     "text": [
      "+----------+------------------+\n",
      "|CustomerId|      realQuantity|\n",
      "+----------+------------------+\n",
      "|   17850.0|239.08999999999997|\n",
      "|   17850.0|          418.7156|\n",
      "|   17850.0|             489.0|\n",
      "|   17850.0|          418.7156|\n",
      "|   17850.0|          418.7156|\n",
      "+----------+------------------+\n",
      "only showing top 5 rows\n",
      "\n"
     ]
    }
   ],
   "source": [
    "fabricatedQuantity = pow(col(\"Quantity\") * col(\"UnitPrice\"), 2) + 5\n",
    "df.select(expr(\"CustomerId\"), fabricatedQuantity.alias(\"realQuantity\")).show(5)"
   ]
  },
  {
   "cell_type": "code",
   "execution_count": 8,
   "id": "5d19130d-b6c2-4d11-9d36-c7d7482ddc5c",
   "metadata": {},
   "outputs": [
    {
     "name": "stdout",
     "output_type": "stream",
     "text": [
      "+-------------------------+\n",
      "|corr(Quantity, UnitPrice)|\n",
      "+-------------------------+\n",
      "|     -0.04112314436835551|\n",
      "+-------------------------+\n",
      "\n"
     ]
    }
   ],
   "source": [
    "df.stat.corr(\"Quantity\", \"UnitPrice\")\n",
    "df.select(corr(\"Quantity\", \"UnitPrice\")).show()"
   ]
  },
  {
   "cell_type": "markdown",
   "id": "528d1ab4-d746-4c00-abb9-65b851f29a2d",
   "metadata": {},
   "source": [
    "## 문자열 데이터 타입 다루기"
   ]
  },
  {
   "cell_type": "code",
   "execution_count": 9,
   "id": "190e2ffc-7158-4775-b79f-4b76543a08ce",
   "metadata": {},
   "outputs": [
    {
     "name": "stdout",
     "output_type": "stream",
     "text": [
      "+--------------------+\n",
      "|initcap(Description)|\n",
      "+--------------------+\n",
      "|White Hanging Hea...|\n",
      "| White Metal Lantern|\n",
      "|Cream Cupid Heart...|\n",
      "|Knitted Union Fla...|\n",
      "|Red Woolly Hottie...|\n",
      "|Set 7 Babushka Ne...|\n",
      "|Glass Star Froste...|\n",
      "|Hand Warmer Union...|\n",
      "|Hand Warmer Red P...|\n",
      "|Assorted Colour B...|\n",
      "|Poppy's Playhouse...|\n",
      "|Poppy's Playhouse...|\n",
      "|Feltcraft Princes...|\n",
      "|Ivory Knitted Mug...|\n",
      "|Box Of 6 Assorted...|\n",
      "|Box Of Vintage Ji...|\n",
      "|Box Of Vintage Al...|\n",
      "|Home Building Blo...|\n",
      "|Love Building Blo...|\n",
      "|Recipe Box With M...|\n",
      "+--------------------+\n",
      "only showing top 20 rows\n",
      "\n"
     ]
    }
   ],
   "source": [
    "# initcap 함수는 주어진 문자열에서 공백으로 나뉘는 모든 단어의 첫 글자를 대문자로 변경\n",
    "\n",
    "df.select(initcap(col(\"Description\"))).show()"
   ]
  },
  {
   "cell_type": "code",
   "execution_count": 10,
   "id": "4fd56772-84c4-4bff-9cf3-29583ea6692d",
   "metadata": {},
   "outputs": [
    {
     "name": "stdout",
     "output_type": "stream",
     "text": [
      "+-----+\n",
      "| trim|\n",
      "+-----+\n",
      "|HELLO|\n",
      "|HELLO|\n",
      "|HELLO|\n",
      "|HELLO|\n",
      "|HELLO|\n",
      "+-----+\n",
      "only showing top 5 rows\n",
      "\n"
     ]
    }
   ],
   "source": [
    "# lpad, ltrim, rpad, rtrim, trim 함수를 사용해 문자열 주변의 공백을 제거하거나 추가할 수 있다.\n",
    "\n",
    "df.select(\n",
    "    trim(lit(\"     HELLO      \")).alias(\"trim\")).show(5)"
   ]
  },
  {
   "cell_type": "markdown",
   "id": "487426df-8a5d-4f8b-9ede-d2704d3a6206",
   "metadata": {},
   "source": [
    "## 정규표현식\n",
    "\n",
    "스파크는 자바 정규 표현식이 가진 강력한 능력을 활용한다. 스파크는 정규 표현식을 위해 `regexp_extract`와 `regexp_replace` 함수를 제공한다. "
   ]
  },
  {
   "cell_type": "code",
   "execution_count": 11,
   "id": "fcc4e9a8-99df-41ef-85d8-1ccf9f34af04",
   "metadata": {},
   "outputs": [
    {
     "name": "stdout",
     "output_type": "stream",
     "text": [
      "+--------------------+--------------------+\n",
      "|         Color_Clean|         Description|\n",
      "+--------------------+--------------------+\n",
      "|COLOR HANGING HEA...|WHITE HANGING HEA...|\n",
      "| COLOR METAL LANTERN| WHITE METAL LANTERN|\n",
      "|CREAM CUPID HEART...|CREAM CUPID HEART...|\n",
      "|KNITTED UNION FLA...|KNITTED UNION FLA...|\n",
      "|COLOR WOOLLY HOTT...|RED WOOLLY HOTTIE...|\n",
      "+--------------------+--------------------+\n",
      "only showing top 5 rows\n",
      "\n"
     ]
    }
   ],
   "source": [
    "regex_string = \"BLACK|WHITE|RED|GREEN|BLUE\"\n",
    "\n",
    "df.select(\n",
    "    regexp_replace(col(\"Description\"), regex_string, \"COLOR\").alias(\"Color_Clean\"),\n",
    "    col(\"Description\")).show(5)"
   ]
  },
  {
   "cell_type": "code",
   "execution_count": 12,
   "id": "5238108c-a053-4180-b72f-120459802362",
   "metadata": {},
   "outputs": [
    {
     "name": "stdout",
     "output_type": "stream",
     "text": [
      "+--------------------+\n",
      "|         Description|\n",
      "+--------------------+\n",
      "|WHITE HANGING HEA...|\n",
      "| WHITE METAL LANTERN|\n",
      "|RED WOOLLY HOTTIE...|\n",
      "|WHITE HANGING HEA...|\n",
      "| WHITE METAL LANTERN|\n",
      "+--------------------+\n",
      "only showing top 5 rows\n",
      "\n"
     ]
    }
   ],
   "source": [
    "# 때로는 값 추출 없이 단순히 값의 존재 여부를 확인하고 싶을 때가 있다. 이때 contain 메서드를 사용한다.\n",
    "# 파이썬에서는 instr 함수를 사용해 값의 존재 여부를 나타낸다.\n",
    "\n",
    "containsBlack = instr(col(\"Description\"), \"BLACK\") >= 1\n",
    "containsWhite = instr(col(\"Description\"), \"WHITE\") >= 1\n",
    "\n",
    "df.withColumn(\"hasSimpleColor\", containsBlack | containsWhite) \\\n",
    ".where(\"hasSimpleColor\") \\\n",
    ".select(\"Description\").show(5)"
   ]
  },
  {
   "cell_type": "markdown",
   "id": "f412399b-7840-4774-b658-26c138f9e308",
   "metadata": {},
   "source": [
    "## 날짜와 타임스탬프 데이터 타입 다루기"
   ]
  },
  {
   "cell_type": "code",
   "execution_count": 13,
   "id": "ee64570e-7763-4df3-9fa1-ea9fa77c551b",
   "metadata": {},
   "outputs": [
    {
     "name": "stdout",
     "output_type": "stream",
     "text": [
      "root\n",
      " |-- id: long (nullable = false)\n",
      " |-- today: date (nullable = false)\n",
      " |-- now: timestamp (nullable = false)\n",
      "\n"
     ]
    }
   ],
   "source": [
    "dateDF = spark.range(10) \\\n",
    ".withColumn(\"today\", current_date()) \\\n",
    ".withColumn(\"now\", current_timestamp()) \\\n",
    "\n",
    "dateDF.createOrReplaceTempView(\"dateTable\")\n",
    "dateDF.printSchema()"
   ]
  },
  {
   "cell_type": "code",
   "execution_count": 14,
   "id": "3d5756b6-011b-40ea-ae08-600619cac621",
   "metadata": {},
   "outputs": [
    {
     "name": "stdout",
     "output_type": "stream",
     "text": [
      "+------------------+------------------+\n",
      "|date_sub(today, 5)|date_add(today, 5)|\n",
      "+------------------+------------------+\n",
      "|        2024-09-21|        2024-10-01|\n",
      "|        2024-09-21|        2024-10-01|\n",
      "|        2024-09-21|        2024-10-01|\n",
      "|        2024-09-21|        2024-10-01|\n",
      "|        2024-09-21|        2024-10-01|\n",
      "+------------------+------------------+\n",
      "only showing top 5 rows\n",
      "\n"
     ]
    }
   ],
   "source": [
    "# 위의 만든 DateFrame을 사용해 오늘을 기준으로 5일 전후의 날짜를 구해본다.\n",
    "\n",
    "dateDF.select(date_sub(col(\"today\"), 5), date_add(col(\"today\"), 5)).show(5)"
   ]
  },
  {
   "cell_type": "code",
   "execution_count": 15,
   "id": "b5c4a7dc-f3f2-4121-b057-8d723c92c3a4",
   "metadata": {},
   "outputs": [
    {
     "name": "stdout",
     "output_type": "stream",
     "text": [
      "+-------------------------+\n",
      "|datediff(week_ago, today)|\n",
      "+-------------------------+\n",
      "|                       -7|\n",
      "+-------------------------+\n",
      "only showing top 1 row\n",
      "\n"
     ]
    }
   ],
   "source": [
    "# 두 날짜의 차이를 구하는 방법도 자주 발생한다. 두 날짜 사이의 일수를 변환하는 datediff 함수를 사용해 이러한 작업을 수행할 수 있다.\n",
    "\n",
    "dateDF.withColumn(\"week_ago\", date_sub(col(\"today\"), 7)) \\\n",
    ".select(datediff(col(\"week_ago\"), col(\"today\"))).show(1)"
   ]
  },
  {
   "cell_type": "code",
   "execution_count": 16,
   "id": "8180c623-1ef3-4e12-bc20-c58ddb9e93cc",
   "metadata": {},
   "outputs": [
    {
     "name": "stdout",
     "output_type": "stream",
     "text": [
      "+-------------+\n",
      "|to_date(date)|\n",
      "+-------------+\n",
      "|   2024-01-01|\n",
      "|   2024-01-01|\n",
      "|   2024-01-01|\n",
      "|   2024-01-01|\n",
      "|   2024-01-01|\n",
      "+-------------+\n",
      "\n"
     ]
    }
   ],
   "source": [
    "spark.range(5).withColumn(\"date\", lit(\"2024-01-01\")) \\\n",
    ".select(to_date(col(\"date\"))).show()"
   ]
  },
  {
   "cell_type": "markdown",
   "id": "b6f01612-7ad8-4584-b3e6-0caae31d8777",
   "metadata": {},
   "source": [
    "지정한 날짜 형식에 맞춰 데이터가 들어온다면 문제가 없다. 하지만 날짜 형식을 지키지 않은 데이터가 들어온다면 디버깅하기 매우 어려워진다. 이를 해결하기 위해 자바의 SimpleDateFormat 표준에 맞춰 날짜 포맷을 지정할 수 있다. 문제를 해결하기 위해 `to_date` 함수와 `to_timestamp` 함수를 사용한다. to_date 함수는 필요에 따라 날짜 포맷을 지정할 수 있지만 to_timestamp 함수는 반드시 날짜 포맷을 지정해야 한다."
   ]
  },
  {
   "cell_type": "markdown",
   "id": "22457312-7230-46a4-9a8c-65f79043f30c",
   "metadata": {},
   "source": [
    "## null 값 다루기 "
   ]
  },
  {
   "cell_type": "markdown",
   "id": "1afc3eae-c9fd-4779-9a3c-c4dc437d3063",
   "metadata": {},
   "source": [
    "스파크의 `coalesce` 함수는 인수로 지정한 여러 칼럼 중 null이 아닌 첫 번째 값을 반환한다. 모든 컬럼이 null이 아닌 값을 가지는 경우 첫 번째 컬럼의 값을 반환한다.\n",
    "\n",
    "이외에도 `na.drop()`: null 값 삭제, `na.fill()`: null 값 채우기, `na.replace()`: null 값 치환하기 등을 수행할 수 있다."
   ]
  },
  {
   "cell_type": "code",
   "execution_count": 17,
   "id": "548fae23-091d-471b-b558-5ce35aa157a4",
   "metadata": {},
   "outputs": [
    {
     "name": "stdout",
     "output_type": "stream",
     "text": [
      "+---------------------------------+\n",
      "|coalesce(Description, CustomerId)|\n",
      "+---------------------------------+\n",
      "|             WHITE HANGING HEA...|\n",
      "|              WHITE METAL LANTERN|\n",
      "|             CREAM CUPID HEART...|\n",
      "|             KNITTED UNION FLA...|\n",
      "|             RED WOOLLY HOTTIE...|\n",
      "+---------------------------------+\n",
      "only showing top 5 rows\n",
      "\n"
     ]
    }
   ],
   "source": [
    "df.select(coalesce(col(\"Description\"), col(\"CustomerId\"))).show(5)"
   ]
  },
  {
   "cell_type": "markdown",
   "id": "c163ba32-ae93-43c5-9153-c14ab4f6e315",
   "metadata": {},
   "source": [
    "## 복합 데이터 다루기 "
   ]
  },
  {
   "cell_type": "markdown",
   "id": "6a9ec219-9746-40ca-a0a4-2be605806069",
   "metadata": {},
   "source": [
    "복합 데이터 타입을 사용하면 해결하려는 문제에 더욱 적합한 방식을 데이터를 구성하고 구조화할 수 있다. 복합 데이터는 구조체, 배열, 맵이 있다."
   ]
  },
  {
   "cell_type": "code",
   "execution_count": 18,
   "id": "e2cf70eb-4462-44cb-acb3-874460daf5b2",
   "metadata": {},
   "outputs": [
    {
     "data": {
      "text/plain": [
       "DataFrame[complex.Description: string]"
      ]
     },
     "execution_count": 18,
     "metadata": {},
     "output_type": "execute_result"
    }
   ],
   "source": [
    "complexDF = df.select(struct(\"Description\", \"InvoiceNo\").alias(\"complex\"))\n",
    "complexDF.createOrReplaceTempView(\"complexDF\")\n",
    "\n",
    "complexDF.select(\"complex.Description\")\n",
    "complexDF.select(col(\"complex\").getField(\"Description\"))"
   ]
  },
  {
   "cell_type": "markdown",
   "id": "53d97f13-764c-412e-b7bc-2905a88dc9d3",
   "metadata": {},
   "source": [
    "explode 함수는 배열 타입의 컬럼을 입력받는다. 그리고 입력된 컬럼의 배열값에 포함된 모든 값을 로우로 변환한다. "
   ]
  },
  {
   "cell_type": "code",
   "execution_count": 20,
   "id": "0a1fa480-9e32-4c01-90cd-3c82a7ace7f3",
   "metadata": {},
   "outputs": [
    {
     "name": "stdout",
     "output_type": "stream",
     "text": [
      "+--------------------+---------+--------+\n",
      "|         Description|InvoiceNo|exploded|\n",
      "+--------------------+---------+--------+\n",
      "|WHITE HANGING HEA...|   536365|   WHITE|\n",
      "|WHITE HANGING HEA...|   536365| HANGING|\n",
      "|WHITE HANGING HEA...|   536365|   HEART|\n",
      "|WHITE HANGING HEA...|   536365| T-LIGHT|\n",
      "|WHITE HANGING HEA...|   536365|  HOLDER|\n",
      "+--------------------+---------+--------+\n",
      "only showing top 5 rows\n",
      "\n"
     ]
    }
   ],
   "source": [
    "df.withColumn(\"splitted\", split(col(\"Description\"), \" \")) \\\n",
    ".withColumn(\"exploded\", explode(col(\"splitted\"))) \\\n",
    ".select(\"Description\", \"InvoiceNo\", \"exploded\").show(5)"
   ]
  },
  {
   "cell_type": "markdown",
   "id": "1abaf573-5e87-41ab-98f5-e4a2c8220947",
   "metadata": {},
   "source": [
    "맵은 map 함수와 컬럼의 키-값 쌍을 이용해 생성한다. 그리고 배열과 동일한 방법으로 값을 선택할 수 있다. "
   ]
  },
  {
   "cell_type": "code",
   "execution_count": 24,
   "id": "8b2b4425-75f2-46cc-9597-c90a5279786d",
   "metadata": {},
   "outputs": [
    {
     "name": "stdout",
     "output_type": "stream",
     "text": [
      "+--------------------+\n",
      "|         complex_map|\n",
      "+--------------------+\n",
      "|{WHITE HANGING HE...|\n",
      "|{WHITE METAL LANT...|\n",
      "|{CREAM CUPID HEAR...|\n",
      "|{KNITTED UNION FL...|\n",
      "|{RED WOOLLY HOTTI...|\n",
      "+--------------------+\n",
      "only showing top 5 rows\n",
      "\n"
     ]
    }
   ],
   "source": [
    "# key = Description , value = InvoiceNo\n",
    "df.select(create_map(col(\"Description\"), col(\"InvoiceNo\")).alias(\"complex_map\")) \\\n",
    ".show(5)"
   ]
  },
  {
   "cell_type": "code",
   "execution_count": 25,
   "id": "07ffec74-7abf-47ab-bf64-380f38bc5737",
   "metadata": {},
   "outputs": [
    {
     "name": "stdout",
     "output_type": "stream",
     "text": [
      "+--------------------------------+\n",
      "|complex_map[WHITE METAL LANTERN]|\n",
      "+--------------------------------+\n",
      "|                            NULL|\n",
      "|                          536365|\n",
      "|                            NULL|\n",
      "|                            NULL|\n",
      "|                            NULL|\n",
      "+--------------------------------+\n",
      "only showing top 5 rows\n",
      "\n"
     ]
    }
   ],
   "source": [
    "df.select(create_map(col(\"Description\"), col(\"InvoiceNo\")).alias(\"complex_map\"))\\\n",
    ".selectExpr(\"complex_map['WHITE METAL LANTERN']\").show(5)"
   ]
  },
  {
   "cell_type": "markdown",
   "id": "79e18585-39da-4246-9396-a0f15eac80f0",
   "metadata": {},
   "source": [
    "## 사용자 정의 함수"
   ]
  },
  {
   "cell_type": "code",
   "execution_count": 28,
   "id": "8b3d912a-cbcf-4a79-832b-b296ad810dc9",
   "metadata": {},
   "outputs": [
    {
     "data": {
      "text/plain": [
       "8.0"
      ]
     },
     "execution_count": 28,
     "metadata": {},
     "output_type": "execute_result"
    }
   ],
   "source": [
    "udfExampleDF = spark.range(5).toDF(\"num\")\n",
    "\n",
    "def power3(double_value):\n",
    "    return double_value ** 3\n",
    "\n",
    "power3(2.0)"
   ]
  },
  {
   "cell_type": "markdown",
   "id": "454d5148-1227-4753-890c-0be08f37d58d",
   "metadata": {},
   "source": [
    "함수를 만들고 테스트를 완료했으니 모든 워커 노드에서 생성된 함수를 사용할 수 있도록 스파크에 등록해야 한다. \n",
    "\n",
    "스파크는 드라이버에서 함수를 직렬화하고 네트워크를 통해 모든 익스큐터 프로세서로 전달한다. 이 과정은 모든 언어에서 똑같다.\n",
    "\n",
    "스파크는 워커 노드에 파이썬 프로세스를 실행하고 파이썬이 이해할 수 있는 포맷으로 모든 데이터를 직렬화한다. \n",
    "\n",
    "그리고 파이썬 프로세스에 있는 데이터의 로우마다 함수를 실행하고 마지막으로 JVM과 스파크에 처리 결과를 반환한다."
   ]
  },
  {
   "cell_type": "code",
   "execution_count": 30,
   "id": "4a45df97-15e5-42eb-bb59-14b0300f0123",
   "metadata": {},
   "outputs": [],
   "source": [
    "power3udf = udf(power3)"
   ]
  },
  {
   "cell_type": "code",
   "execution_count": 31,
   "id": "b168db0f-5c19-45ab-b634-fad0f63b2089",
   "metadata": {},
   "outputs": [
    {
     "name": "stderr",
     "output_type": "stream",
     "text": [
      "[Stage 25:>                                                         (0 + 1) / 1]\r"
     ]
    },
    {
     "name": "stdout",
     "output_type": "stream",
     "text": [
      "+-----------+\n",
      "|power3(num)|\n",
      "+-----------+\n",
      "|          0|\n",
      "|          1|\n",
      "|          8|\n",
      "|         27|\n",
      "|         64|\n",
      "+-----------+\n",
      "\n"
     ]
    },
    {
     "name": "stderr",
     "output_type": "stream",
     "text": [
      "                                                                                \r"
     ]
    }
   ],
   "source": [
    "udfExampleDF.select(power3udf(col(\"num\"))).show(5)"
   ]
  }
 ],
 "metadata": {
  "kernelspec": {
   "display_name": "Python 3 (ipykernel)",
   "language": "python",
   "name": "python3"
  },
  "language_info": {
   "codemirror_mode": {
    "name": "ipython",
    "version": 3
   },
   "file_extension": ".py",
   "mimetype": "text/x-python",
   "name": "python",
   "nbconvert_exporter": "python",
   "pygments_lexer": "ipython3",
   "version": "3.9.6"
  }
 },
 "nbformat": 4,
 "nbformat_minor": 5
}
